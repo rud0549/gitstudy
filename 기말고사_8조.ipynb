{
 "cells": [
  {
   "cell_type": "markdown",
   "metadata": {},
   "source": [
    "# 필요한 패키지 import 및 2020년 뉴스 크롤링"
   ]
  },
  {
   "cell_type": "code",
   "execution_count": null,
   "metadata": {},
   "outputs": [],
   "source": [
    "import requests\n",
    "import time\n",
    "import re\n",
    "from bs4 import BeautifulSoup\n",
    "import csv\n",
    "import pandas as pd\n",
    "from konlpy.tag import Okt\n",
    "from collections import Counter\n",
    "import numpy as np\n",
    "from PIL import Image\n",
    "from wordcloud import WordCloud\n",
    "from palettable.colorbrewer.qualitative import Dark2_8\n",
    "import random\n",
    "\n",
    "#1월~12월 뉴스 크롤링\n",
    "csv_filename = \"naver_news_IT_11.csv\"\n",
    "csv_open = open(csv_filename, \"w+\", encoding='utf-8')\n",
    "csv_writer = csv.writer(csv_open)\n",
    "csv_writer.writerow( ('title', 'date') )  #제목 입력\n",
    "\n",
    "#실행 도중 원인모를 실패가 발생하여 월별로 실행.\n",
    "dt_index = pd.date_range(start='20201101', end='20201130')\n",
    "dt_list = dt_index.strftime(\"%Y%m%d\").tolist()\n",
    "\n",
    "for date in dt_list:\n",
    "        \n",
    "    #최대 페이지가 넘어 갔을 때, 마지막 페이지가 보여지는 것을 이용해서 마지막 페이지 번호를 가져온다.    \n",
    "    url = \"https://news.naver.com/main/list.nhn?mode=LSD&mid=sec&sid1=105&date=\"+date+\"&page=100\"\n",
    "    result = requests.get(url, headers={'User-Agent':'Mozilla/5.0'})               \n",
    "    soup = BeautifulSoup(result.content, 'html.parser') \n",
    "    \n",
    "    headline_tag = soup.find('div', {'class': 'paging'}).find('strong')\n",
    "    regex = re.compile(r'<strong>(?P<num>\\d+)')\n",
    "    match = regex.findall(str(headline_tag))\n",
    "    page = int(match[0]) + 1\n",
    "    \n",
    "    #마지막 페이지까지 반복 실행\n",
    "    for i in range(1,page,1):\n",
    "        url = \"https://news.naver.com/main/list.nhn?mode=LSD&mid=sec&sid1=105&date=\"+date+\"&page=\" +str(i)\n",
    "                \n",
    "        result = requests.get(url, headers={'User-Agent':'Mozilla/5.0'})            \n",
    "    \n",
    "        soup = BeautifulSoup(result.content, 'html.parser')\n",
    "        \n",
    "                    \n",
    "        for a in soup.find_all(class_='nclicks(fls.list)') :\n",
    "            #이미지와 타이틀이 같은 class를 사용하기 떄문에, 이미지일 경우 exception 발생.    \n",
    "            try :\n",
    "                title = a.text.strip()\n",
    "            except:\n",
    "                continue\n",
    "                \n",
    "            if title != '' :\n",
    "                #print(title)\n",
    "                csv_writer.writerow ( (title, date) )\n",
    "\n",
    "        \n",
    "csv_open.close()"
   ]
  },
  {
   "cell_type": "markdown",
   "metadata": {},
   "source": [
    "# 크롤링 결과 CSV 가져오기"
   ]
  },
  {
   "cell_type": "code",
   "execution_count": 2,
   "metadata": {
    "scrolled": true
   },
   "outputs": [
    {
     "data": {
      "text/html": [
       "<div>\n",
       "<style scoped>\n",
       "    .dataframe tbody tr th:only-of-type {\n",
       "        vertical-align: middle;\n",
       "    }\n",
       "\n",
       "    .dataframe tbody tr th {\n",
       "        vertical-align: top;\n",
       "    }\n",
       "\n",
       "    .dataframe thead th {\n",
       "        text-align: right;\n",
       "    }\n",
       "</style>\n",
       "<table border=\"1\" class=\"dataframe\">\n",
       "  <thead>\n",
       "    <tr style=\"text-align: right;\">\n",
       "      <th></th>\n",
       "      <th>title</th>\n",
       "      <th>date</th>\n",
       "    </tr>\n",
       "  </thead>\n",
       "  <tbody>\n",
       "    <tr>\n",
       "      <th>0</th>\n",
       "      <td>온더, 이더리움 레이어2 솔루션 '토카막 네트워크' 개발자에 공개</td>\n",
       "      <td>20200101</td>\n",
       "    </tr>\n",
       "    <tr>\n",
       "      <th>1</th>\n",
       "      <td>2022년 발사 예정인 달 탐사 궤도선 비행 방식 변경</td>\n",
       "      <td>20200101</td>\n",
       "    </tr>\n",
       "    <tr>\n",
       "      <th>2</th>\n",
       "      <td>카카오톡 새해부터 먹통, 트래픽 폭증… 2시간 장애</td>\n",
       "      <td>20200101</td>\n",
       "    </tr>\n",
       "    <tr>\n",
       "      <th>3</th>\n",
       "      <td>MS, 14일부터 ‘윈도7’ 기술 지원 중단… 과기부, 종합상황실 설치 보안 대응</td>\n",
       "      <td>20200101</td>\n",
       "    </tr>\n",
       "    <tr>\n",
       "      <th>4</th>\n",
       "      <td>삼성전자 TV도 美 ‘8K UHD’ 인증 획득</td>\n",
       "      <td>20200101</td>\n",
       "    </tr>\n",
       "    <tr>\n",
       "      <th>...</th>\n",
       "      <td>...</td>\n",
       "      <td>...</td>\n",
       "    </tr>\n",
       "    <tr>\n",
       "      <th>19178</th>\n",
       "      <td>카이스트, AI로 MRI 강조 영상 재현 기술 개발</td>\n",
       "      <td>20200131</td>\n",
       "    </tr>\n",
       "    <tr>\n",
       "      <th>19179</th>\n",
       "      <td>'워킹데드' 모바일게임 나온다…컴투스, 스카이바운드에 투자</td>\n",
       "      <td>20200131</td>\n",
       "    </tr>\n",
       "    <tr>\n",
       "      <th>19180</th>\n",
       "      <td>SK텔레콤, 키즈 앱 '잼', KCA한국소비자평가 앱 어워즈 수상</td>\n",
       "      <td>20200131</td>\n",
       "    </tr>\n",
       "    <tr>\n",
       "      <th>19181</th>\n",
       "      <td>폼페이오 \"중국이 가장 큰 위협…영국과 차이 해결할 수 있어\"</td>\n",
       "      <td>20200131</td>\n",
       "    </tr>\n",
       "    <tr>\n",
       "      <th>19182</th>\n",
       "      <td>[TF확대경] '스마트폰 아쉬움' 삼성·LG전자, 올해 5G폰 시장 정조준</td>\n",
       "      <td>20200131</td>\n",
       "    </tr>\n",
       "  </tbody>\n",
       "</table>\n",
       "<p>19183 rows × 2 columns</p>\n",
       "</div>"
      ],
      "text/plain": [
       "                                               title      date\n",
       "0               온더, 이더리움 레이어2 솔루션 '토카막 네트워크' 개발자에 공개  20200101\n",
       "1                     2022년 발사 예정인 달 탐사 궤도선 비행 방식 변경  20200101\n",
       "2                       카카오톡 새해부터 먹통, 트래픽 폭증… 2시간 장애  20200101\n",
       "3      MS, 14일부터 ‘윈도7’ 기술 지원 중단… 과기부, 종합상황실 설치 보안 대응  20200101\n",
       "4                          삼성전자 TV도 美 ‘8K UHD’ 인증 획득  20200101\n",
       "...                                              ...       ...\n",
       "19178                   카이스트, AI로 MRI 강조 영상 재현 기술 개발  20200131\n",
       "19179               '워킹데드' 모바일게임 나온다…컴투스, 스카이바운드에 투자  20200131\n",
       "19180           SK텔레콤, 키즈 앱 '잼', KCA한국소비자평가 앱 어워즈 수상  20200131\n",
       "19181             폼페이오 \"중국이 가장 큰 위협…영국과 차이 해결할 수 있어\"  20200131\n",
       "19182      [TF확대경] '스마트폰 아쉬움' 삼성·LG전자, 올해 5G폰 시장 정조준  20200131\n",
       "\n",
       "[19183 rows x 2 columns]"
      ]
     },
     "execution_count": 2,
     "metadata": {},
     "output_type": "execute_result"
    }
   ],
   "source": [
    "df_january = pd.read_csv('naver_news_IT/naver_news_IT_01.csv', encoding='utf-8')\n",
    "df_february = pd.read_csv('naver_news_IT/naver_news_IT_02.csv', encoding='utf-8')\n",
    "df_march = pd.read_csv('naver_news_IT/naver_news_IT_03.csv', encoding='utf-8')\n",
    "df_april = pd.read_csv('naver_news_IT/naver_news_IT_04.csv', encoding='utf-8')\n",
    "df_may = pd.read_csv('naver_news_IT/naver_news_IT_05.csv', encoding='utf-8')\n",
    "df_june = pd.read_csv('naver_news_IT/naver_news_IT_06.csv', encoding='utf-8')\n",
    "df_july = pd.read_csv('naver_news_IT/naver_news_IT_07.csv', encoding='utf-8')\n",
    "df_august = pd.read_csv('naver_news_IT/naver_news_IT_08.csv', encoding='utf-8')\n",
    "df_september = pd.read_csv('naver_news_IT/naver_news_IT_09.csv', encoding='utf-8')\n",
    "df_october = pd.read_csv('naver_news_IT/naver_news_IT_10.csv', encoding='utf-8')\n",
    "df_november = pd.read_csv('naver_news_IT/naver_news_IT_11.csv', encoding='utf-8')\n",
    "df_december = pd.read_csv('naver_news_IT/naver_news_IT_12.csv', encoding='utf-8')\n",
    "df_january"
   ]
  },
  {
   "cell_type": "markdown",
   "metadata": {},
   "source": [
    "# Missing Value 확인"
   ]
  },
  {
   "cell_type": "code",
   "execution_count": 45,
   "metadata": {},
   "outputs": [
    {
     "data": {
      "text/plain": [
       "title    0\n",
       "date     0\n",
       "dtype: int64"
      ]
     },
     "execution_count": 45,
     "metadata": {},
     "output_type": "execute_result"
    }
   ],
   "source": [
    "df_january.isnull().sum()\n",
    "df_february.isnull().sum()\n",
    "df_march.isnull().sum()\n",
    "df_april.isnull().sum()\n",
    "df_may.isnull().sum()\n",
    "df_june.isnull().sum()\n",
    "df_july.isnull().sum()\n",
    "df_august.isnull().sum()\n",
    "df_september.isnull().sum()\n",
    "df_october.isnull().sum()\n",
    "df_november.isnull().sum()\n",
    "df_december.isnull().sum()"
   ]
  },
  {
   "cell_type": "markdown",
   "metadata": {},
   "source": [
    "# 월별 title을 각각 하나의 string으로 변환"
   ]
  },
  {
   "cell_type": "code",
   "execution_count": 8,
   "metadata": {},
   "outputs": [],
   "source": [
    "def getTitleString(df):\n",
    "    list_ = list(df['title'])\n",
    "    result = \"\"\n",
    "    for x in list_:\n",
    "        result += (x + ' ')\n",
    "    return result\n",
    "\n",
    "str_january = getTitleString(df_january)\n",
    "str_february = getTitleString(df_february)\n",
    "str_march = getTitleString(df_march)\n",
    "str_april = getTitleString(df_april)\n",
    "str_may = getTitleString(df_may)\n",
    "str_june = getTitleString(df_june)\n",
    "str_july = getTitleString(df_july)\n",
    "str_august = getTitleString(df_august)\n",
    "str_september = getTitleString(df_september)\n",
    "str_october = getTitleString(df_october)\n",
    "str_november = getTitleString(df_november)\n",
    "str_december = getTitleString(df_december)"
   ]
  },
  {
   "cell_type": "markdown",
   "metadata": {},
   "source": [
    "# 크롤링한 단어를 ('단어', '빈도수')로 치환 후 상위 100개 필터링"
   ]
  },
  {
   "cell_type": "markdown",
   "metadata": {},
   "source": [
    "### konlpy 패키지를 이용하여 한글 형태소 분리 후 명사만 사용(2글자 미만 단어는 삭제)"
   ]
  },
  {
   "cell_type": "code",
   "execution_count": 38,
   "metadata": {
    "scrolled": true
   },
   "outputs": [],
   "source": [
    "def setKeyValue(str):\n",
    "    okt = Okt()\n",
    "    noun = okt.nouns(str)\n",
    "    for i, v in enumerate(noun):\n",
    "        if len(v) < 2:\n",
    "            noun.pop(i)\n",
    "    return Counter(noun)\n",
    "\n",
    "noun_list_january = setKeyValue(str_january).most_common(100)\n",
    "noun_list_february = setKeyValue(str_february).most_common(100)\n",
    "noun_list_march = setKeyValue(str_march).most_common(100)\n",
    "noun_list_april = setKeyValue(str_april).most_common(100)\n",
    "noun_list_may = setKeyValue(str_may).most_common(100)\n",
    "noun_list_june = setKeyValue(str_june).most_common(100)\n",
    "noun_list_july = setKeyValue(str_july).most_common(100)\n",
    "noun_list_august = setKeyValue(str_august).most_common(100)\n",
    "noun_list_september = setKeyValue(str_september).most_common(100)\n",
    "noun_list_october = setKeyValue(str_october).most_common(100)\n",
    "noun_list_november = setKeyValue(str_november).most_common(100)\n",
    "noun_list_december = setKeyValue(str_december).most_common(100)"
   ]
  },
  {
   "cell_type": "markdown",
   "metadata": {},
   "source": [
    "# 워드클라우드 마스킹 이미지"
   ]
  },
  {
   "cell_type": "code",
   "execution_count": 11,
   "metadata": {},
   "outputs": [],
   "source": [
    "def getMask(filePath):\n",
    "    mask = np.array(Image.open(filePath))\n",
    "\n",
    "    for i in range(len(mask)):\n",
    "        for j in range(len(mask[i])):\n",
    "            if mask[i][j]==0:\n",
    "                mask[i][j] = 255\n",
    "    return mask"
   ]
  },
  {
   "cell_type": "markdown",
   "metadata": {},
   "source": [
    "# 단어 빈도수 기반 워드 클라우드 만들기"
   ]
  },
  {
   "cell_type": "code",
   "execution_count": 12,
   "metadata": {},
   "outputs": [],
   "source": [
    "def color_func(word, font_size, position, orientation, random_state=None, **kwargs):\n",
    "    return tuple(Dark2_8.colors[random.randint(0,7)])\n",
    "\n",
    "def makeWordCloud(maskFileName, noun_list, resultFileName):\n",
    "    wc = WordCloud(font_path='malgun.ttf', background_color=\"white\", mask=getMask(maskFileName))\n",
    "    wc.generate_from_frequencies(dict(noun_list))\n",
    "    wc.recolor(color_func=color_func)\n",
    "    wc.to_file(resultFileName)\n",
    "\n",
    "makeWordCloud('1월.png', noun_list_january, 'wordcloud_january.png')\n",
    "makeWordCloud('2월.png', noun_list_february, 'wordcloud_february.png')\n",
    "makeWordCloud('3월.png', noun_list_march, 'wordcloud_march.png')\n",
    "makeWordCloud('4월.png', noun_list_april, 'wordcloud_april.png')\n",
    "makeWordCloud('5월.png', noun_list_may, 'wordcloud_may.png')\n",
    "makeWordCloud('6월.png', noun_list_june, 'wordcloud_june.png')\n",
    "makeWordCloud('7월.png', noun_list_july, 'wordcloud_july.png')\n",
    "makeWordCloud('8월.png', noun_list_august, 'wordcloud_august.png')\n",
    "makeWordCloud('9월.png', noun_list_september, 'wordcloud_september.png')\n",
    "makeWordCloud('10월.png', noun_list_october, 'wordcloud_october.png')\n",
    "makeWordCloud('11월.png', noun_list_november, 'wordcloud_november.png')\n",
    "makeWordCloud('12월.png', noun_list_december, 'wordcloud_december.png')"
   ]
  },
  {
   "cell_type": "markdown",
   "metadata": {},
   "source": [
    "# 2020년 전체 단어로 워드클라우드 만들기"
   ]
  },
  {
   "cell_type": "code",
   "execution_count": 39,
   "metadata": {},
   "outputs": [],
   "source": [
    "str_2020 = getTitleString(df_january)\n",
    "str_2020 += getTitleString(df_february)\n",
    "str_2020 += getTitleString(df_march)\n",
    "str_2020 += getTitleString(df_april)\n",
    "str_2020 += getTitleString(df_may)\n",
    "str_2020 += getTitleString(df_june)\n",
    "str_2020 += getTitleString(df_july)\n",
    "str_2020 += getTitleString(df_august)\n",
    "str_2020 += getTitleString(df_september)\n",
    "str_2020 += getTitleString(df_october)\n",
    "str_2020 += getTitleString(df_november)\n",
    "str_2020 += getTitleString(df_december)\n",
    "\n",
    "noun_list_2020 = setKeyValue(str_2020).most_common(100)\n",
    "\n",
    "makeWordCloud('2020년.png', noun_list_2020, 'wordcloud_2020.png')"
   ]
  },
  {
   "cell_type": "code",
   "execution_count": 50,
   "metadata": {
    "scrolled": true
   },
   "outputs": [
    {
     "data": {
      "text/plain": [
       "[('코로나', 18580),\n",
       " ('출시', 15664),\n",
       " ('게임', 12462),\n",
       " ('삼성', 11574),\n",
       " ('서비스', 9357),\n",
       " ('전자', 8667),\n",
       " ('개발', 8597),\n",
       " ('기술', 7670),\n",
       " ('공개', 7446),\n",
       " ('지원', 7421),\n",
       " ('네이버', 7332),\n",
       " ('기업', 6923),\n",
       " ('카카오', 6903),\n",
       " ('사업', 6504),\n",
       " ('모바일', 6432),\n",
       " ('온라인', 6099),\n",
       " ('한국', 5980),\n",
       " ('글로벌', 5250),\n",
       " ('시장', 5188),\n",
       " ('갤럭시', 5050),\n",
       " ('국내', 4871),\n",
       " ('개최', 4770),\n",
       " ('디지털', 4690),\n",
       " ('클라우드', 4627),\n",
       " ('데이터', 4528),\n",
       " ('투자', 4327),\n",
       " ('플랫폼', 4141),\n",
       " ('이슈', 4080),\n",
       " ('콘텐츠', 3713),\n",
       " ('보안', 3593),\n",
       " ('산업', 3398),\n",
       " ('업데이트', 3366),\n",
       " ('진행', 3345),\n",
       " ('신규', 3305),\n",
       " ('혁신', 3300),\n",
       " ('스마트', 3266),\n",
       " ('대표', 3242),\n",
       " ('협력', 3193),\n",
       " ('치료', 3176),\n",
       " ('세계', 3175),\n",
       " ('선정', 3152),\n",
       " ('솔루션', 3144),\n",
       " ('애플', 3137),\n",
       " ('추가', 3133),\n",
       " ('매출', 3119),\n",
       " ('정부', 3056),\n",
       " ('확대', 3056),\n",
       " ('구축', 3041),\n",
       " ('영업', 3024),\n",
       " ('시스템', 3022),\n",
       " ('인사', 3010),\n",
       " ('바이오', 2973),\n",
       " ('구글', 2967),\n",
       " ('최대', 2918),\n",
       " ('종합', 2894),\n",
       " ('스마트폰', 2891),\n",
       " ('시대', 2876),\n",
       " ('영상', 2802),\n",
       " ('판매', 2779),\n",
       " ('넷마블', 2779),\n",
       " ('넥슨', 2762),\n",
       " ('강화', 2730),\n",
       " ('돌파', 2722),\n",
       " ('시작', 2717),\n",
       " ('제공', 2717),\n",
       " ('체인', 2684),\n",
       " ('블록', 2675),\n",
       " ('아이폰', 2658),\n",
       " ('이벤트', 2645),\n",
       " ('기반', 2614),\n",
       " ('정보', 2590),\n",
       " ('관리', 2580),\n",
       " ('통신', 2579),\n",
       " ('실시', 2579),\n",
       " ('연구', 2569),\n",
       " ('올해', 2553),\n",
       " ('센터', 2526),\n",
       " ('교육', 2521),\n",
       " ('반도체', 2417),\n",
       " ('스타트업', 2369),\n",
       " ('오픈', 2320),\n",
       " ('비대', 2312),\n",
       " ('로봇', 2305),\n",
       " ('도입', 2298),\n",
       " ('금융', 2268),\n",
       " ('업계', 2234),\n",
       " ('대상', 2167),\n",
       " ('추진', 2087),\n",
       " ('화웨이', 2055),\n",
       " ('인증', 2037),\n",
       " ('코리아', 2021),\n",
       " ('신작', 1987),\n",
       " ('텔레콤', 1964),\n",
       " ('유플러스', 1957),\n",
       " ('대응', 1933),\n",
       " ('정통부', 1916),\n",
       " ('활용', 1904),\n",
       " ('무료', 1902),\n",
       " ('방송', 1887),\n",
       " ('장관', 1877)]"
      ]
     },
     "execution_count": 50,
     "metadata": {},
     "output_type": "execute_result"
    }
   ],
   "source": [
    "noun_list_2020"
   ]
  },
  {
   "cell_type": "code",
   "execution_count": 51,
   "metadata": {},
   "outputs": [
    {
     "data": {
      "text/plain": [
       "8021747"
      ]
     },
     "execution_count": 51,
     "metadata": {},
     "output_type": "execute_result"
    }
   ],
   "source": [
    "len(str_2020)"
   ]
  },
  {
   "cell_type": "markdown",
   "metadata": {},
   "source": [
    "# Frequency based approach 적용"
   ]
  },
  {
   "cell_type": "code",
   "execution_count": 41,
   "metadata": {},
   "outputs": [],
   "source": [
    "noun_dict_2020 = dict(noun_list_2020)\n",
    "maximum_frequency = max(noun_dict_2020.values())\n",
    "for word in noun_dict_2020.keys():  \n",
    "    noun_dict_2020[word] = (noun_dict_2020[word]/maximum_frequency)"
   ]
  },
  {
   "cell_type": "code",
   "execution_count": 47,
   "metadata": {},
   "outputs": [
    {
     "data": {
      "text/plain": [
       "[('통신 3사, 전국 지하철 5G 서비스 개통 박차', 4.496878363832078),\n",
       " (\"삼성전자, '갤럭시 탭 S6 5G' 국내 출시\", 4.420882669537137),\n",
       " ('티브로드, 안드로이드 UHD 셋톱박스 출시', 4.215285252960172),\n",
       " ('LG CNS, 클라우드 기반 인사관리 솔루션 출시', 4.205974165769645),\n",
       " ('그리드원, 국내 최초 인공지능 RPA 솔루션 상반기 출시', 3.823304628632939),\n",
       " (\"KT, 20대를 위한 5G요금제 'Y슈퍼플랜' 출시\", 3.3722282023681376),\n",
       " (\"넥슨, 첫 서브컬처 게임 '카운터사이드' 2월 4일 출시\", 3.3248654467169),\n",
       " (\"삼성, '올여름 상용화 로봇 제품 출시'\", 3.180086114101184),\n",
       " ('삼성, CES 앞두고 갤럭시S10 라이트·노트10 라이트 공개', 3.0710441334768563),\n",
       " ('시스코, 클라우드 전화 솔루션 국내 출시', 3.0469321851453177)]"
      ]
     },
     "execution_count": 47,
     "metadata": {},
     "output_type": "execute_result"
    }
   ],
   "source": [
    "import nltk\n",
    "\n",
    "sentence_scores = {}  \n",
    "for sent in sentence_list:  \n",
    "    for word in nltk.word_tokenize(sent):\n",
    "        if word in noun_dict_2020.keys():\n",
    "            if sent not in sentence_scores.keys():\n",
    "                sentence_scores[sent] = noun_dict_2020[word]\n",
    "            else:\n",
    "                sentence_scores[sent] += noun_dict_2020[word]\n",
    "                \n",
    "sorted_sentence_scores = sorted(sentence_scores.items(), key=lambda x: x[1], reverse=True)\n",
    "sorted_sentence_scores[0:10]"
   ]
  },
  {
   "cell_type": "markdown",
   "metadata": {},
   "source": [
    "## 2020년 TOP10 키워드 월별 시각화"
   ]
  },
  {
   "cell_type": "code",
   "execution_count": 53,
   "metadata": {},
   "outputs": [
    {
     "data": {
      "image/png": "[encoded data removed]",
      "text/plain": [
       "<Figure size 432x288 with 1 Axes>"
      ]
     },
     "metadata": {
      "needs_background": "light"
     },
     "output_type": "display_data"
    }
   ],
   "source": [
    "from matplotlib import pyplot as plt\n",
    "import matplotlib.font_manager as fm\n",
    "\n",
    "path = \"malgun.ttf\"\n",
    "fonrprop = fm.FontProperties(fname=path, size = 18).get_name()\n",
    "\n",
    "plt.rc('font',family=fonrprop)\n",
    "\n",
    "noun_list_2020_most = noun_list_2020[0:10]\n",
    "x_values = [0,0,0,0,0,0,0,0,0,0,0,0,0,0]\n",
    "list_x   = [1,2,3,4,5,6,7,8,9,10,11,12]\n",
    "\n",
    "for i in range(0,10,1):\n",
    "    x_values[i] = noun_list_2020_most[i][0]\n",
    "\n",
    "for w in noun_list_2020_most :\n",
    "    list_y = [0,0,0,0,0,0,0,0,0,0,0,0]\n",
    "    for i in range(0,100,1):\n",
    "        if noun_list_january[i][0] == w[0] :\n",
    "            list_y[0] = noun_list_january[i][1]\n",
    "        if noun_list_february[i][0] == w[0] :\n",
    "            list_y[1] = noun_list_february[i][1]\n",
    "        if noun_list_march[i][0] == w[0] :\n",
    "            list_y[2] = noun_list_march[i][1]\n",
    "        if noun_list_april[i][0] == w[0] :\n",
    "            list_y[3] = noun_list_april[i][1]\n",
    "        if noun_list_may[i][0] == w[0] :\n",
    "            list_y[4] = noun_list_may[i][1]\n",
    "        if noun_list_june[i][0] == w[0] :\n",
    "            list_y[5] = noun_list_june[i][1]\n",
    "        if noun_list_july[i][0] == w[0] :\n",
    "            list_y[6] = noun_list_july[i][1]\n",
    "        if noun_list_august[i][0] == w[0] :\n",
    "            list_y[7] = noun_list_august[i][1]\n",
    "        if noun_list_september[i][0] == w[0] :\n",
    "            list_y[8] = noun_list_september[i][1]\n",
    "        if noun_list_october[i][0] == w[0] :\n",
    "            list_y[9] = noun_list_october[i][1]\n",
    "        if noun_list_november[i][0] == w[0] :\n",
    "            list_y[10] = noun_list_november[i][1]\n",
    "        if noun_list_december[i][0] == w[0] :\n",
    "            list_y[11] = noun_list_december[i][1]\n",
    "        \n",
    "    plt.plot(list_x, list_y)        \n",
    "    \n",
    "plt.legend(x_values)\n",
    "\n",
    "plt.show()"
   ]
  }
 ],
 "metadata": {
  "kernelspec": {
   "display_name": "Python 3",
   "language": "python",
   "name": "python3"
  },
  "language_info": {
   "codemirror_mode": {
    "name": "ipython",
    "version": 3
   },
   "file_extension": ".py",
   "mimetype": "text/x-python",
   "name": "python",
   "nbconvert_exporter": "python",
   "pygments_lexer": "ipython3",
   "version": "3.7.4"
  }
 },
 "nbformat": 4,
 "nbformat_minor": 4
}
